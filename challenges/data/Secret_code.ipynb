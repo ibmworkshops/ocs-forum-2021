{
 "cells": [
  {
   "cell_type": "code",
   "execution_count": null,
   "metadata": {},
   "outputs": [],
   "source": [
    "# Несчастные злоумышленники!\n",
    "# Хакеры добавили три однотипных кодовых слова в первую главу рассказа А.П. Чехова \n",
    "# Чтобы их найти, вашему эксперту в области данных и интеллектуального анализа текста потребуется выполнить кластеризацию\n",
    "# К счастью, они могут использовать приведенный ниже код Python, взятый из секретной библиотеки UNDERCOVER.\n",
    "\n",
    "mytext = \"У отставного генерал-майора Булдеева разболелись зубы. Он полоскал рот водкой, коньяком, прикладывал к больному зубу табачную копоть, опий, скипидар, керосин. Мазал щеку йодом, в ушах у него была вата, смоченная в спирту, но всё это или не помогало, или вызывало тошноту. Приезжал доктор. Он поковырял в зубе, прописал хину, но и это не помогло. На предложение вырвать больной зуб генерал ответил отказом. Все домашние — жена, дети, тверская прислуга, даже поваренок Петька, и хакер Димка предлагали каждый свое средство. Между прочим и приказчик Булдеева Иван Евсеич пришел к нему и посоветовал полечиться заговором. — Тут, в нашем уезде, ваше превосходительство, — сказал он, — лет десять назад служил акцизный Яков Васильич. Заговаривал зубы — первый сорт. Бывало, отвернется к окошку, пошепчет, поплюет — и как рукой! Сила ему такая дадена... — Где же он теперь? — А после того, как его из акцизных увольнили, в Саратове у тещи живет. Теперь только зубами и кормится. Ежели у которого человека заболит зуб, то и идут к нему, помогает боровицкая... Тамошних, саратовских на дому у себя пользует, а ежели которые из других городов, то по телеграфу. Пошлите ему, ваше превосходительство, депешу, что так, мол, вот и так... у раба божьего Алексия зубы болят, прошу выпользовать. А деньги за лечение почтой пошлете. — Ерунда! Шарлатанство! — А вы попытайте, ваше превосходительство. До водки очень охотник, живет не с женой, а с немкой, ругатель, но, можно сказать, чудодейственный господин! — Пошли, Алеша! — взмолилась генеральша. — Ты вот не веришь в заговоры, а я на себе испытала. Хотя ты и не веришь, но отчего не послать? Руки ведь не отвалятся от этого. — Ну, ладно, — согласился Булдеев. — Тут не только что к акцизному, но и к чёрту депешу пошлешь... Ох! Мочи нет! Ну, где твой акцизный живет? Как к нему писать? Генерал сел за стол и взял перо в руки. — Его в Саратове каждая арбатская собака знает, — сказал приказчик. — Извольте писать, ваше превосходительство, в город Саратов, стало быть... Его благородию господину Якову Васильичу... Васильичу...\""
   ]
  },
  {
   "cell_type": "code",
   "execution_count": null,
   "metadata": {},
   "outputs": [],
   "source": [
    "mytext[0:10000]"
   ]
  },
  {
   "cell_type": "code",
   "execution_count": null,
   "metadata": {},
   "outputs": [],
   "source": [
    "from platform import python_version\n",
    "#print(python_version())\n",
    "#assert(python_version()[:3]==\"3.8\")"
   ]
  },
  {
   "cell_type": "code",
   "execution_count": null,
   "metadata": {},
   "outputs": [],
   "source": [
    "# Разобьем на предложения\n",
    "sentences = mytext.split(\".\")\n",
    "sentences[0:5]"
   ]
  },
  {
   "cell_type": "code",
   "execution_count": null,
   "metadata": {},
   "outputs": [],
   "source": [
    "# удалим символы, не являющиеся буквами или цифрами, переведем все в нижний регистр, затем удалим стоп-слова \"\n",
    "import re\n",
    "def clean_sentence(input_sentence):\n",
    "    regex = re.compile('([^\\s\\w]|_)+')\n",
    "    sentence = regex.sub(' ', input_sentence).lower()\n",
    "    return sentence"
   ]
  },
  {
   "cell_type": "code",
   "execution_count": null,
   "metadata": {},
   "outputs": [],
   "source": [
    "# Очистим каждое предложение\n",
    "cleaned_sentences = list(map(clean_sentence,sentences))\n",
    "cleaned_sentences[0:5]"
   ]
  },
  {
   "cell_type": "code",
   "execution_count": null,
   "metadata": {},
   "outputs": [],
   "source": [
    "# Создадим список слов каждого предложения\n",
    "list_list_words = list(map(lambda x: x.split(\" \"),cleaned_sentences))\n",
    "list_list_words[0:2]"
   ]
  },
  {
   "cell_type": "code",
   "execution_count": null,
   "metadata": {},
   "outputs": [],
   "source": [
    "def remove_empty_string(word_list):\n",
    "    return list(filter(lambda a: a != \"\", word_list))\n",
    "list_list_words_no_empty_string = list(map(remove_empty_string,list_list_words))\n",
    "list_list_words_no_empty_string[0:2]"
   ]
  },
  {
   "cell_type": "code",
   "execution_count": null,
   "metadata": {},
   "outputs": [],
   "source": [
    "# Соединим все списки слов\n",
    "thetext = list_list_words_no_empty_string\n",
    "thewords = sum(thetext,[])\n",
    "thewords[0:6]"
   ]
  },
  {
   "cell_type": "code",
   "execution_count": null,
   "metadata": {},
   "outputs": [],
   "source": [
    "# Найдем список уникальных слов\n",
    "unique_words = list(dict.fromkeys(thewords))"
   ]
  },
  {
   "cell_type": "code",
   "execution_count": null,
   "metadata": {},
   "outputs": [],
   "source": [
    "# Уберем короткие слова (1-2 символа)\n",
    "unique_words_filtered = list(filter(lambda a: len(a) >= 3, unique_words))"
   ]
  },
  {
   "cell_type": "code",
   "execution_count": null,
   "metadata": {},
   "outputs": [],
   "source": [
    "!pip install distance"
   ]
  },
  {
   "cell_type": "code",
   "execution_count": null,
   "metadata": {},
   "outputs": [],
   "source": [
    "def my_distance(w1,w2):\n",
    "    # return distance.??? # ЗДЕСЬ НАДО ДОБАВИТЬ КОД\n",
    "\n",
    "# ПОДСКАЗКА: взять последние 8 символов каждого слова, синтаксис: [-x:]\n",
    "# Функция my_distance должна вернуть \"редакционное расстояние\" (или \"Расстояние Левенштейна\") между словами.\n",
    "# Для расчета используйте библиотеку distance: https://pypi.org/project/Distance/"
   ]
  },
  {
   "cell_type": "code",
   "execution_count": null,
   "metadata": {},
   "outputs": [],
   "source": [
    "# Найдем кластеры слов \n",
    "\n",
    "import numpy as np\n",
    "import sklearn.cluster\n",
    "import distance\n",
    "\n",
    "words2 = np.asarray(unique_words_filtered)\n",
    "lev_similarity = -1*np.array([[my_distance(w1,w2) for w1 in words2] for w2 in words2])\n",
    "\n",
    "affprop = sklearn.cluster.AffinityPropagation(random_state=0, affinity=\"precomputed\", damping=0.5)\n",
    "affprop.fit(lev_similarity)\n",
    "clusters = []\n",
    "for cluster_id in np.unique(affprop.labels_):\n",
    "    cluster = list(np.unique(words2[np.nonzero(affprop.labels_==cluster_id)]))\n",
    "    clusters.append(cluster)\n",
    "print(clusters[0:100])"
   ]
  },
  {
   "cell_type": "code",
   "execution_count": null,
   "metadata": {},
   "outputs": [],
   "source": [
    "# Функция нахождения кластера для слова\n",
    "def find_cluster(word):\n",
    "    for cluster in clusters:\n",
    "        if word in cluster:\n",
    "            return cluster\n",
    "    return []"
   ]
  },
  {
   "cell_type": "code",
   "execution_count": null,
   "metadata": {},
   "outputs": [],
   "source": [
    "word1 = \"???\".lower() # ВВЕДИТЕ СЛОВО\n",
    "# Подсказка 1: станция метро в центре Москвы, рядом с Кремлем\n",
    "# Подсказка 2: 55°45'08.5860\", 37°36'11.8152\"\n",
    "find_cluster(word1)"
   ]
  },
  {
   "cell_type": "code",
   "execution_count": null,
   "metadata": {},
   "outputs": [],
   "source": []
  }
 ],
 "metadata": {
  "kernelspec": {
   "display_name": "Python 3.8",
   "language": "python",
   "name": "python3"
  },
  "language_info": {
   "codemirror_mode": {
    "name": "ipython",
    "version": 3
   },
   "file_extension": ".py",
   "mimetype": "text/x-python",
   "name": "python",
   "nbconvert_exporter": "python",
   "pygments_lexer": "ipython3",
   "version": "3.8.10"
  }
 },
 "nbformat": 4,
 "nbformat_minor": 1
}
